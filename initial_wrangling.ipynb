{
 "cells": [
  {
   "cell_type": "code",
   "execution_count": 2,
   "metadata": {
    "ExecuteTime": {
     "end_time": "2020-11-20T15:58:31.509119Z",
     "start_time": "2020-11-20T15:58:30.541275Z"
    }
   },
   "outputs": [],
   "source": [
    "import numpy as np\n",
    "import pandas as pd\n",
    "import geopandas as gpd\n",
    "import matplotlib.pyplot as plt\n",
    "from shapely.geometry import Point, Polygon\n",
    "import re"
   ]
  },
  {
   "cell_type": "code",
   "execution_count": 3,
   "metadata": {
    "ExecuteTime": {
     "end_time": "2020-11-20T15:58:59.125218Z",
     "start_time": "2020-11-20T15:58:55.947880Z"
    },
    "scrolled": true
   },
   "outputs": [
    {
     "data": {
      "text/html": [
       "<div>\n",
       "<style scoped>\n",
       "    .dataframe tbody tr th:only-of-type {\n",
       "        vertical-align: middle;\n",
       "    }\n",
       "\n",
       "    .dataframe tbody tr th {\n",
       "        vertical-align: top;\n",
       "    }\n",
       "\n",
       "    .dataframe thead th {\n",
       "        text-align: right;\n",
       "    }\n",
       "</style>\n",
       "<table border=\"1\" class=\"dataframe\">\n",
       "  <thead>\n",
       "    <tr style=\"text-align: right;\">\n",
       "      <th></th>\n",
       "      <th>Code</th>\n",
       "      <th>Name</th>\n",
       "      <th>Geographic Level</th>\n",
       "      <th>City Class</th>\n",
       "      <th>Income\\nClassification</th>\n",
       "      <th>Urban / Rural\\n(based on 2015 POPCEN)</th>\n",
       "      <th>POPULATION\\n(2015 POPCEN)</th>\n",
       "      <th>Unnamed: 7</th>\n",
       "    </tr>\n",
       "  </thead>\n",
       "  <tbody>\n",
       "    <tr>\n",
       "      <th>0</th>\n",
       "      <td>010000000</td>\n",
       "      <td>REGION I (ILOCOS REGION)</td>\n",
       "      <td>Reg</td>\n",
       "      <td>NaN</td>\n",
       "      <td>NaN</td>\n",
       "      <td>NaN</td>\n",
       "      <td>5026128</td>\n",
       "      <td>NaN</td>\n",
       "    </tr>\n",
       "    <tr>\n",
       "      <th>1</th>\n",
       "      <td>012800000</td>\n",
       "      <td>ILOCOS NORTE</td>\n",
       "      <td>Prov</td>\n",
       "      <td>NaN</td>\n",
       "      <td>1st</td>\n",
       "      <td>NaN</td>\n",
       "      <td>593081</td>\n",
       "      <td>NaN</td>\n",
       "    </tr>\n",
       "    <tr>\n",
       "      <th>2</th>\n",
       "      <td>012801000</td>\n",
       "      <td>ADAMS</td>\n",
       "      <td>Mun</td>\n",
       "      <td>NaN</td>\n",
       "      <td>5th</td>\n",
       "      <td>NaN</td>\n",
       "      <td>1792</td>\n",
       "      <td>NaN</td>\n",
       "    </tr>\n",
       "    <tr>\n",
       "      <th>3</th>\n",
       "      <td>012801001</td>\n",
       "      <td>Adams (Pob.)</td>\n",
       "      <td>Bgy</td>\n",
       "      <td>NaN</td>\n",
       "      <td>NaN</td>\n",
       "      <td>R</td>\n",
       "      <td>1792</td>\n",
       "      <td>NaN</td>\n",
       "    </tr>\n",
       "    <tr>\n",
       "      <th>4</th>\n",
       "      <td>012802000</td>\n",
       "      <td>BACARRA</td>\n",
       "      <td>Mun</td>\n",
       "      <td>NaN</td>\n",
       "      <td>3rd</td>\n",
       "      <td>NaN</td>\n",
       "      <td>32215</td>\n",
       "      <td>NaN</td>\n",
       "    </tr>\n",
       "  </tbody>\n",
       "</table>\n",
       "</div>"
      ],
      "text/plain": [
       "        Code                      Name Geographic Level City Class  \\\n",
       "0  010000000  REGION I (ILOCOS REGION)              Reg        NaN   \n",
       "1  012800000              ILOCOS NORTE             Prov        NaN   \n",
       "2  012801000                     ADAMS              Mun        NaN   \n",
       "3  012801001              Adams (Pob.)              Bgy        NaN   \n",
       "4  012802000                   BACARRA              Mun        NaN   \n",
       "\n",
       "  Income\\nClassification Urban / Rural\\n(based on 2015 POPCEN)  \\\n",
       "0                    NaN                                   NaN   \n",
       "1                    1st                                   NaN   \n",
       "2                    5th                                   NaN   \n",
       "3                    NaN                                     R   \n",
       "4                    3rd                                   NaN   \n",
       "\n",
       "  POPULATION\\n(2015 POPCEN) Unnamed: 7  \n",
       "0                   5026128        NaN  \n",
       "1                    593081        NaN  \n",
       "2                      1792        NaN  \n",
       "3                      1792        NaN  \n",
       "4                     32215        NaN  "
      ]
     },
     "execution_count": 3,
     "metadata": {},
     "output_type": "execute_result"
    }
   ],
   "source": [
    "df = pd.read_excel('PSGC 2Q 2020 Publication.xlsx', sheet_name='PSGC', dtype={'Code': object})\n",
    "df.head()"
   ]
  },
  {
   "cell_type": "code",
   "execution_count": null,
   "metadata": {
    "ExecuteTime": {
     "end_time": "2020-11-06T02:42:04.762324Z",
     "start_time": "2020-11-06T02:42:04.735549Z"
    },
    "scrolled": true
   },
   "outputs": [],
   "source": [
    "df = df[['Code', 'Name', 'Geographic Level', 'City Class', 'Income\\nClassification']]\n",
    "df.columns = ['Code', 'Name_1', 'Geographic Level', 'City Class', 'Income Classification']\n",
    "df['Code_1'] = [str(i) for i in df['Code']]\n",
    "df['Code_2'] = [(df['Code_1'].iloc[i][0:4] + '00000') for i in df.index]\n",
    "# df['Code_1'] = [(df['Code'].iloc[i][0:4] + '00000') if len(df['Code_1'].iloc[i]) == 8 else (df['Code_1'].iloc[i][0:4] + '00000') for i in df.index]\n",
    "\n",
    "df_prov = df[(df['Geographic Level'] == 'Prov') | (df['Geographic Level'] == 'Dist')]\n",
    "df_prov = df_prov[['Code', 'Name_1']]\n",
    "df_prov['Code_2'] = [str(i) for i in df_prov['Code']]\n",
    "df_prov = df_prov[['Code_2', 'Name_1']]\n",
    "df_prov.columns = ['Code_2', 'Name_2']\n",
    "\n",
    "df_1 = pd.merge(df, df_prov, how='left')\n",
    "df_2 = df_1[(df_1['Geographic Level'] == 'City') | (df['Geographic Level'] == 'Mun')]\n",
    "df_2['Name_2'].fillna(' ', inplace = True)\n",
    "df_2['Name_3'] = df_2['Name_1'] + ' ' + df_2['Name_2'] + ' ' + 'Philippines'\n",
    "df_2['Income Classification'] = [str(i) for i in df_2['Income Classification']]\n",
    "df_2 = df_2.reset_index(drop=True)\n",
    "df_2['IC'] = [(df_2['Income Classification'].iloc[i][0:1]) for i in df_2.index]\n",
    "df_2['IC'] = df_2['IC'].replace({\"S\":\"1\", \"-\": \"6\"})\n",
    "df_2['IC'] = df_2['IC'].astype(int)\n",
    "# df_2[df_2['Name_2'].isnull()]\n",
    "\n",
    "df_2['Name_4'] = df_2.apply(lambda x: re.sub('\\(.*?\\)', '', x.Name_3).strip(), axis=1)\n",
    "df_2['Name_4'] = df_2['Name_4'].str.lower()"
   ]
  },
  {
   "cell_type": "code",
   "execution_count": null,
   "metadata": {},
   "outputs": [],
   "source": [
    "df_2.to_csv('result_2.csv')"
   ]
  }
 ],
 "metadata": {
  "kernelspec": {
   "display_name": "Python 3",
   "language": "python",
   "name": "python3"
  },
  "language_info": {
   "codemirror_mode": {
    "name": "ipython",
    "version": 3
   },
   "file_extension": ".py",
   "mimetype": "text/x-python",
   "name": "python",
   "nbconvert_exporter": "python",
   "pygments_lexer": "ipython3",
   "version": "3.8.3"
  }
 },
 "nbformat": 4,
 "nbformat_minor": 4
}
